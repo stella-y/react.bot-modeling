{
 "cells": [
  {
   "cell_type": "code",
   "execution_count": 2,
   "metadata": {},
   "outputs": [],
   "source": [
    "import os\n",
    "import csv\n",
    "import wave\n",
    "import sys\n",
    "import numpy as np\n",
    "import pandas as pd\n",
    "import glob\n",
    "from sklearn.preprocessing import label_binarize\n",
    "\n",
    "sys.path.append(os.path.dirname(os.path.realpath('.')))\n"
   ]
  },
  {
   "cell_type": "code",
   "execution_count": 3,
   "metadata": {},
   "outputs": [
    {
     "name": "stdout",
     "output_type": "stream",
     "text": [
      "/Users/stella-yj/workspace/notebook\n"
     ]
    }
   ],
   "source": [
    "print(os.path.dirname(os.path.realpath('.')))"
   ]
  },
  {
   "cell_type": "code",
   "execution_count": 7,
   "metadata": {},
   "outputs": [],
   "source": [
    "class Constants:\n",
    "    def __init__(self):\n",
    "        real_path = os.path.dirname(os.path.realpath('.'))\n",
    "        #print(real_pat)\n",
    "        self.available_emotions = np.array(['ang', 'exc', 'neu', 'sad'])\n",
    "        self.path_to_data = real_path + \"/datasets/IEMOCAP_full_release/\"\n",
    "        self.path_to_features = real_path + \"/datasets/IEMOCAP_full_release/features/\"\n",
    "        self.sessions = ['Session1', 'Session2', 'Session3', 'Session4', 'Session5']\n",
    "        self.conf_matrix_prefix = 'iemocap'\n",
    "        self.framerate = 16000\n",
    "        self.types = {1: np.int8, 2: np.int16, 4: np.int32}\n",
    "    \n",
    "    def __str__(self):\n",
    "        def display(objects, positions):\n",
    "            line = ''\n",
    "            for i in range(len(objects)):\n",
    "                line += str(objects[i])\n",
    "                line = line[:positions[i]]\n",
    "                line += ' ' * (positions[i] - len(line))\n",
    "            return line\n",
    "        \n",
    "        line_length = 100\n",
    "        ans = '-' * line_length\n",
    "        members = [attr for attr in dir(self) if not callable(attr) and not attr.startswith(\"__\")]\n",
    "        for field in members:\n",
    "            objects = [field, getattr(self, field)]\n",
    "            positions = [30, 100]\n",
    "            ans += \"\\n\" + display(objects, positions)\n",
    "        ans += \"\\n\" + '-' * line_length\n",
    "        return ans"
   ]
  },
  {
   "cell_type": "code",
   "execution_count": 8,
   "metadata": {},
   "outputs": [],
   "source": [
    "def get_audio(path_to_wav, filename, params=Constants()):\n",
    "    wav = wave.open(path_to_wav + filename, mode=\"r\")\n",
    "    (nchannels, sampwidth, framerate, nframes, comptype, compname) = wav.getparams()\n",
    "    content = wav.readframes(nframes)\n",
    "    samples = np.fromstring(content, dtype=params.types[sampwidth])\n",
    "    return (nchannels, sampwidth, framerate, nframes, comptype, compname), samples\n",
    "\n",
    "\n",
    "def get_transcriptions(path_to_transcriptions, filename, params=Constants()):\n",
    "    f = open(path_to_transcriptions + filename, 'r').read()\n",
    "    f = np.array(f.split('\\n'))\n",
    "    transcription = {}\n",
    "    for i in range(len(f) - 1):\n",
    "        g = f[i]\n",
    "        i1 = g.find(': ')\n",
    "        i0 = g.find(' [')\n",
    "        ind_id = g[:i0]\n",
    "        ind_ts = g[i1+2:]\n",
    "        transcription[ind_id] = ind_ts\n",
    "    return transcription"
   ]
  },
  {
   "cell_type": "code",
   "execution_count": 9,
   "metadata": {},
   "outputs": [],
   "source": [
    "def get_emotions(path_to_emotions, filename, params=Constants()):\n",
    "    f = open(path_to_emotions + filename, 'r').read()\n",
    "    f = np.array(f.split('\\n'))\n",
    "    idx = f == ''\n",
    "    idx_n = np.arange(len(f))[idx]\n",
    "    emotion = []\n",
    "    for i in range(len(idx_n) - 2):\n",
    "        g = f[idx_n[i]+1:idx_n[i+1]]\n",
    "        head = g[0]\n",
    "        i0 = head.find(' - ')\n",
    "        start_time = float(head[head.find('[') + 1:head.find(' - ')])\n",
    "        end_time = float(head[head.find(' - ') + 3:head.find(']')])\n",
    "        actor_id = head[head.find(filename[:-4]) + len(filename[:-4]) + 1:\n",
    "                        head.find(filename[:-4]) + len(filename[:-4]) + 5]\n",
    "        emo = head[head.find('\\t[') - 3:head.find('\\t[')]\n",
    "        vad = head[head.find('\\t[') + 1:]\n",
    "\n",
    "        v = float(vad[1:7])\n",
    "        a = float(vad[9:15])\n",
    "        d = float(vad[17:23])\n",
    "        \n",
    "        j = 1\n",
    "        emos = []\n",
    "        while g[j][0] == \"C\":\n",
    "            head = g[j]\n",
    "            start_idx = head.find(\"\\t\") + 1\n",
    "            evoluator_emo = []\n",
    "            idx = head.find(\";\", start_idx)\n",
    "            while idx != -1:\n",
    "                evoluator_emo.append(head[start_idx:idx].strip().lower()[:3])\n",
    "                start_idx = idx + 1\n",
    "                idx = head.find(\";\", start_idx)\n",
    "            emos.append(evoluator_emo)\n",
    "            j += 1\n",
    "\n",
    "        emotion.append({'start': start_time,\n",
    "                        'end': end_time,\n",
    "                        'id': filename[:-4] + '_' + actor_id,\n",
    "                        'v': v,\n",
    "                        'a': a,\n",
    "                        'd': d,\n",
    "                        'emotion': emo,\n",
    "                        'emo_evo': emos})\n",
    "    return emotion"
   ]
  },
  {
   "cell_type": "code",
   "execution_count": 10,
   "metadata": {},
   "outputs": [],
   "source": [
    "def split_wav(wav, emotions, params=Constants()):\n",
    "    (nchannels, sampwidth, framerate, nframes, comptype, compname), samples = wav\n",
    "\n",
    "    left = samples[0::nchannels]\n",
    "    right = samples[1::nchannels]\n",
    "\n",
    "    frames = []\n",
    "    for ie, e in enumerate(emotions):\n",
    "        start = e['start']\n",
    "        end = e['end']\n",
    "\n",
    "        e['right'] = right[int(start * framerate):int(end * framerate)]\n",
    "        e['left'] = left[int(start * framerate):int(end * framerate)]\n",
    "\n",
    "        frames.append({'left': e['left'], 'right': e['right']})\n",
    "    return frames"
   ]
  },
  {
   "cell_type": "code",
   "execution_count": 46,
   "metadata": {},
   "outputs": [],
   "source": [
    "def read_iemocap_data(params=Constants()):\n",
    "    data = []\n",
    "    for session in params.sessions:\n",
    "        path_to_wav = params.path_to_data + session + '/dialog/wav/'\n",
    "        path_to_emotions = params.path_to_data + session + '/dialog/EmoEvaluation/'\n",
    "        path_to_transcriptions = params.path_to_data + session + '/dialog/transcriptions/'\n",
    "\n",
    "        files = os.listdir(path_to_wav)\n",
    "        files = [f[:-4] for f in files if f.endswith(\".wav\")]\n",
    "        for f in files:           \n",
    "            wav = get_audio(path_to_wav, f + '.wav')\n",
    "            transcriptions = get_transcriptions(path_to_transcriptions, f + '.txt')\n",
    "            emotions = get_emotions(path_to_emotions, f + '.txt')\n",
    "            sample = split_wav(wav, emotions)\n",
    "\n",
    "            for ie, e in enumerate(emotions):\n",
    "                e['signal'] = sample[ie]['left']\n",
    "                e.pop(\"left\", None)\n",
    "                e.pop(\"right\", None)\n",
    "                e['transcription'] = transcriptions[e['id']]\n",
    "                e['path_to_wav']=path_to_wav\n",
    "                if e['emotion'] in params.available_emotions:\n",
    "                    data.append(e)\n",
    "    sort_key = get_field(data, \"id\")\n",
    "    return np.array(data)[np.argsort(sort_key)]"
   ]
  },
  {
   "cell_type": "code",
   "execution_count": 47,
   "metadata": {},
   "outputs": [],
   "source": [
    "def get_field(data, key):\n",
    "    return np.array([e[key] for e in data])"
   ]
  },
  {
   "cell_type": "code",
   "execution_count": 48,
   "metadata": {},
   "outputs": [
    {
     "name": "stderr",
     "output_type": "stream",
     "text": [
      "/Users/stella-yj/.pyenv/versions/anaconda3-5.3.1/lib/python3.7/site-packages/ipykernel_launcher.py:5: DeprecationWarning: The binary mode of fromstring is deprecated, as it behaves surprisingly on unicode inputs. Use frombuffer instead\n",
      "  \"\"\"\n"
     ]
    }
   ],
   "source": [
    "params = Constants()\n",
    "data = read_iemocap_data(params=params)\n"
   ]
  },
  {
   "cell_type": "code",
   "execution_count": 50,
   "metadata": {},
   "outputs": [
    {
     "data": {
      "text/plain": [
       "(4936,)"
      ]
     },
     "execution_count": 50,
     "metadata": {},
     "output_type": "execute_result"
    }
   ],
   "source": [
    "data.shape"
   ]
  },
  {
   "cell_type": "code",
   "execution_count": 51,
   "metadata": {},
   "outputs": [
    {
     "data": {
      "text/html": [
       "<div>\n",
       "<style scoped>\n",
       "    .dataframe tbody tr th:only-of-type {\n",
       "        vertical-align: middle;\n",
       "    }\n",
       "\n",
       "    .dataframe tbody tr th {\n",
       "        vertical-align: top;\n",
       "    }\n",
       "\n",
       "    .dataframe thead th {\n",
       "        text-align: right;\n",
       "    }\n",
       "</style>\n",
       "<table border=\"1\" class=\"dataframe\">\n",
       "  <thead>\n",
       "    <tr style=\"text-align: right;\">\n",
       "      <th></th>\n",
       "      <th>0</th>\n",
       "    </tr>\n",
       "  </thead>\n",
       "  <tbody>\n",
       "    <tr>\n",
       "      <th>0</th>\n",
       "      <td>{'start': 6.2901, 'end': 8.2357, 'id': 'Ses01F...</td>\n",
       "    </tr>\n",
       "    <tr>\n",
       "      <th>1</th>\n",
       "      <td>{'start': 10.01, 'end': 11.3925, 'id': 'Ses01F...</td>\n",
       "    </tr>\n",
       "    <tr>\n",
       "      <th>2</th>\n",
       "      <td>{'start': 14.8872, 'end': 18.0175, 'id': 'Ses0...</td>\n",
       "    </tr>\n",
       "    <tr>\n",
       "      <th>3</th>\n",
       "      <td>{'start': 27.46, 'end': 31.49, 'id': 'Ses01F_i...</td>\n",
       "    </tr>\n",
       "    <tr>\n",
       "      <th>4</th>\n",
       "      <td>{'start': 85.27, 'end': 88.02, 'id': 'Ses01F_i...</td>\n",
       "    </tr>\n",
       "    <tr>\n",
       "      <th>...</th>\n",
       "      <td>...</td>\n",
       "    </tr>\n",
       "    <tr>\n",
       "      <th>4931</th>\n",
       "      <td>{'start': 236.57, 'end': 244.83, 'id': 'Ses05M...</td>\n",
       "    </tr>\n",
       "    <tr>\n",
       "      <th>4932</th>\n",
       "      <td>{'start': 244.84, 'end': 246.58, 'id': 'Ses05M...</td>\n",
       "    </tr>\n",
       "    <tr>\n",
       "      <th>4933</th>\n",
       "      <td>{'start': 246.59, 'end': 248.83, 'id': 'Ses05M...</td>\n",
       "    </tr>\n",
       "    <tr>\n",
       "      <th>4934</th>\n",
       "      <td>{'start': 255.86, 'end': 260.33, 'id': 'Ses05M...</td>\n",
       "    </tr>\n",
       "    <tr>\n",
       "      <th>4935</th>\n",
       "      <td>{'start': 260.34, 'end': 266.35, 'id': 'Ses05M...</td>\n",
       "    </tr>\n",
       "  </tbody>\n",
       "</table>\n",
       "<p>4936 rows × 1 columns</p>\n",
       "</div>"
      ],
      "text/plain": [
       "                                                      0\n",
       "0     {'start': 6.2901, 'end': 8.2357, 'id': 'Ses01F...\n",
       "1     {'start': 10.01, 'end': 11.3925, 'id': 'Ses01F...\n",
       "2     {'start': 14.8872, 'end': 18.0175, 'id': 'Ses0...\n",
       "3     {'start': 27.46, 'end': 31.49, 'id': 'Ses01F_i...\n",
       "4     {'start': 85.27, 'end': 88.02, 'id': 'Ses01F_i...\n",
       "...                                                 ...\n",
       "4931  {'start': 236.57, 'end': 244.83, 'id': 'Ses05M...\n",
       "4932  {'start': 244.84, 'end': 246.58, 'id': 'Ses05M...\n",
       "4933  {'start': 246.59, 'end': 248.83, 'id': 'Ses05M...\n",
       "4934  {'start': 255.86, 'end': 260.33, 'id': 'Ses05M...\n",
       "4935  {'start': 260.34, 'end': 266.35, 'id': 'Ses05M...\n",
       "\n",
       "[4936 rows x 1 columns]"
      ]
     },
     "execution_count": 51,
     "metadata": {},
     "output_type": "execute_result"
    }
   ],
   "source": [
    "pd.DataFrame(data=data[0:])"
   ]
  },
  {
   "cell_type": "code",
   "execution_count": 52,
   "metadata": {},
   "outputs": [],
   "source": [
    "dfItem = pd.DataFrame.from_records(data)"
   ]
  },
  {
   "cell_type": "code",
   "execution_count": 54,
   "metadata": {},
   "outputs": [],
   "source": [
    "dfItem.to_csv(\"iemocap_meta.csv\", index=False)"
   ]
  }
 ],
 "metadata": {
  "kernelspec": {
   "display_name": "Python 3",
   "language": "python",
   "name": "python3"
  },
  "language_info": {
   "codemirror_mode": {
    "name": "ipython",
    "version": 3
   },
   "file_extension": ".py",
   "mimetype": "text/x-python",
   "name": "python",
   "nbconvert_exporter": "python",
   "pygments_lexer": "ipython3",
   "version": "3.7.6"
  }
 },
 "nbformat": 4,
 "nbformat_minor": 4
}
