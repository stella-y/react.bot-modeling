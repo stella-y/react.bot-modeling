{
 "cells": [
  {
   "cell_type": "code",
   "execution_count": 5,
   "metadata": {
    "scrolled": true
   },
   "outputs": [
    {
     "name": "stdout",
     "output_type": "stream",
     "text": [
      "Collecting fairseq\n",
      "  Using cached fairseq-0.9.0.tar.gz (306 kB)\n",
      "Requirement already satisfied: cffi in /Users/kakao/anaconda/anaconda/lib/python3.6/site-packages (from fairseq) (1.10.0)\n",
      "Requirement already satisfied: cython in /Users/kakao/anaconda/anaconda/lib/python3.6/site-packages (from fairseq) (0.25.2)\n",
      "Requirement already satisfied: numpy in /Users/kakao/anaconda/anaconda/lib/python3.6/site-packages (from fairseq) (1.18.1)\n",
      "Collecting regex\n",
      "  Using cached regex-2020.2.20.tar.gz (681 kB)\n",
      "Collecting sacrebleu\n",
      "  Using cached sacrebleu-1.4.4-py3-none-any.whl (30 kB)\n",
      "Requirement already satisfied: torch in /Users/kakao/anaconda/anaconda/lib/python3.6/site-packages (from fairseq) (1.4.0)\n",
      "Requirement already satisfied: tqdm in /Users/kakao/anaconda/anaconda/lib/python3.6/site-packages (from fairseq) (4.42.1)\n",
      "Requirement already satisfied: pycparser in /Users/kakao/anaconda/anaconda/lib/python3.6/site-packages (from cffi->fairseq) (2.17)\n",
      "Collecting portalocker\n",
      "  Using cached portalocker-1.5.2-py2.py3-none-any.whl (14 kB)\n",
      "Collecting typing\n",
      "  Using cached typing-3.7.4.1-py3-none-any.whl (25 kB)\n",
      "Building wheels for collected packages: fairseq, regex\n",
      "  Building wheel for fairseq (setup.py) ... \u001b[?25ldone\n",
      "\u001b[?25h  Created wheel for fairseq: filename=fairseq-0.9.0-cp36-cp36m-macosx_10_9_x86_64.whl size=633378 sha256=bcab80aaebea9220f528ada9bee2e98c0410cd1a8bcf166b514548cecb5873fa\n",
      "  Stored in directory: /Users/kakao/Library/Caches/pip/wheels/fb/85/9b/286072121774d5b8b0253ab66271b558069189cbe795bc6084\n",
      "  Building wheel for regex (setup.py) ... \u001b[?25ldone\n",
      "\u001b[?25h  Created wheel for regex: filename=regex-2020.2.20-cp36-cp36m-macosx_10_9_x86_64.whl size=303889 sha256=9abcab3e633340e6f6ea27adee1ec0ba8853ad064cadd8df894000e071412c44\n",
      "  Stored in directory: /Users/kakao/Library/Caches/pip/wheels/87/cd/81/c7cd4e15b481ffb1c95e1107bd3674ebad20bca9ef4581ae2f\n",
      "Successfully built fairseq regex\n",
      "Installing collected packages: regex, portalocker, typing, sacrebleu, fairseq\n",
      "Successfully installed fairseq-0.9.0 portalocker-1.5.2 regex-2020.2.20 sacrebleu-1.4.4 typing-3.7.4.1\n"
     ]
    }
   ],
   "source": [
    "!CFLAGS=\"-stdlib=libc++\" pip install fairseq"
   ]
  },
  {
   "cell_type": "code",
   "execution_count": 6,
   "metadata": {
    "collapsed": true
   },
   "outputs": [],
   "source": [
    "import torch\n",
    "from fairseq.models.wav2vec import Wav2VecModel"
   ]
  },
  {
   "cell_type": "code",
   "execution_count": 11,
   "metadata": {
    "collapsed": true
   },
   "outputs": [],
   "source": [
    "import IPython.display as ipd\n",
    "import librosa"
   ]
  },
  {
   "cell_type": "code",
   "execution_count": 43,
   "metadata": {},
   "outputs": [
    {
     "name": "stdout",
     "output_type": "stream",
     "text": [
      "Wav2VecModel(\n",
      "  (feature_extractor): ConvFeatureExtractionModel(\n",
      "    (conv_layers): ModuleList(\n",
      "      (0): Sequential(\n",
      "        (0): Conv1d(1, 512, kernel_size=(10,), stride=(5,), bias=False)\n",
      "        (1): Dropout(p=0.0, inplace=False)\n",
      "        (2): Fp32GroupNorm(1, 512, eps=1e-05, affine=True)\n",
      "        (3): ReLU()\n",
      "      )\n",
      "      (1): Sequential(\n",
      "        (0): Conv1d(512, 512, kernel_size=(8,), stride=(4,), bias=False)\n",
      "        (1): Dropout(p=0.0, inplace=False)\n",
      "        (2): Fp32GroupNorm(1, 512, eps=1e-05, affine=True)\n",
      "        (3): ReLU()\n",
      "      )\n",
      "      (2): Sequential(\n",
      "        (0): Conv1d(512, 512, kernel_size=(4,), stride=(2,), bias=False)\n",
      "        (1): Dropout(p=0.0, inplace=False)\n",
      "        (2): Fp32GroupNorm(1, 512, eps=1e-05, affine=True)\n",
      "        (3): ReLU()\n",
      "      )\n",
      "      (3): Sequential(\n",
      "        (0): Conv1d(512, 512, kernel_size=(4,), stride=(2,), bias=False)\n",
      "        (1): Dropout(p=0.0, inplace=False)\n",
      "        (2): Fp32GroupNorm(1, 512, eps=1e-05, affine=True)\n",
      "        (3): ReLU()\n",
      "      )\n",
      "      (4): Sequential(\n",
      "        (0): Conv1d(512, 512, kernel_size=(4,), stride=(2,), bias=False)\n",
      "        (1): Dropout(p=0.0, inplace=False)\n",
      "        (2): Fp32GroupNorm(1, 512, eps=1e-05, affine=True)\n",
      "        (3): ReLU()\n",
      "      )\n",
      "      (5): Sequential(\n",
      "        (0): Conv1d(512, 512, kernel_size=(1,), stride=(1,), bias=False)\n",
      "        (1): Dropout(p=0.0, inplace=False)\n",
      "        (2): Fp32GroupNorm(1, 512, eps=1e-05, affine=True)\n",
      "        (3): ReLU()\n",
      "      )\n",
      "      (6): Sequential(\n",
      "        (0): Conv1d(512, 512, kernel_size=(1,), stride=(1,), bias=False)\n",
      "        (1): Dropout(p=0.0, inplace=False)\n",
      "        (2): Fp32GroupNorm(1, 512, eps=1e-05, affine=True)\n",
      "        (3): ReLU()\n",
      "      )\n",
      "    )\n",
      "  )\n",
      "  (feature_aggregator): ConvAggegator(\n",
      "    (conv_layers): Sequential(\n",
      "      (0): Sequential(\n",
      "        (0): ReplicationPad1d((1, 0))\n",
      "        (1): Conv1d(512, 512, kernel_size=(2,), stride=(1,))\n",
      "        (2): Dropout(p=0.0, inplace=False)\n",
      "        (3): Fp32GroupNorm(1, 512, eps=1e-05, affine=True)\n",
      "        (4): ReLU()\n",
      "      )\n",
      "      (1): Sequential(\n",
      "        (0): ReplicationPad1d((2, 0))\n",
      "        (1): Conv1d(512, 512, kernel_size=(3,), stride=(1,))\n",
      "        (2): Dropout(p=0.0, inplace=False)\n",
      "        (3): Fp32GroupNorm(1, 512, eps=1e-05, affine=True)\n",
      "        (4): ReLU()\n",
      "      )\n",
      "      (2): Sequential(\n",
      "        (0): ReplicationPad1d((3, 0))\n",
      "        (1): Conv1d(512, 512, kernel_size=(4,), stride=(1,))\n",
      "        (2): Dropout(p=0.0, inplace=False)\n",
      "        (3): Fp32GroupNorm(1, 512, eps=1e-05, affine=True)\n",
      "        (4): ReLU()\n",
      "      )\n",
      "      (3): Sequential(\n",
      "        (0): ReplicationPad1d((4, 0))\n",
      "        (1): Conv1d(512, 512, kernel_size=(5,), stride=(1,))\n",
      "        (2): Dropout(p=0.0, inplace=False)\n",
      "        (3): Fp32GroupNorm(1, 512, eps=1e-05, affine=True)\n",
      "        (4): ReLU()\n",
      "      )\n",
      "      (4): Sequential(\n",
      "        (0): ReplicationPad1d((5, 0))\n",
      "        (1): Conv1d(512, 512, kernel_size=(6,), stride=(1,))\n",
      "        (2): Dropout(p=0.0, inplace=False)\n",
      "        (3): Fp32GroupNorm(1, 512, eps=1e-05, affine=True)\n",
      "        (4): ReLU()\n",
      "      )\n",
      "      (5): Sequential(\n",
      "        (0): ReplicationPad1d((6, 0))\n",
      "        (1): Conv1d(512, 512, kernel_size=(7,), stride=(1,))\n",
      "        (2): Dropout(p=0.0, inplace=False)\n",
      "        (3): Fp32GroupNorm(1, 512, eps=1e-05, affine=True)\n",
      "        (4): ReLU()\n",
      "      )\n",
      "      (6): Sequential(\n",
      "        (0): ReplicationPad1d((7, 0))\n",
      "        (1): Conv1d(512, 512, kernel_size=(8,), stride=(1,))\n",
      "        (2): Dropout(p=0.0, inplace=False)\n",
      "        (3): Fp32GroupNorm(1, 512, eps=1e-05, affine=True)\n",
      "        (4): ReLU()\n",
      "      )\n",
      "      (7): Sequential(\n",
      "        (0): ReplicationPad1d((8, 0))\n",
      "        (1): Conv1d(512, 512, kernel_size=(9,), stride=(1,))\n",
      "        (2): Dropout(p=0.0, inplace=False)\n",
      "        (3): Fp32GroupNorm(1, 512, eps=1e-05, affine=True)\n",
      "        (4): ReLU()\n",
      "      )\n",
      "      (8): Sequential(\n",
      "        (0): ReplicationPad1d((9, 0))\n",
      "        (1): Conv1d(512, 512, kernel_size=(10,), stride=(1,))\n",
      "        (2): Dropout(p=0.0, inplace=False)\n",
      "        (3): Fp32GroupNorm(1, 512, eps=1e-05, affine=True)\n",
      "        (4): ReLU()\n",
      "      )\n",
      "      (9): Sequential(\n",
      "        (0): ReplicationPad1d((10, 0))\n",
      "        (1): Conv1d(512, 512, kernel_size=(11,), stride=(1,))\n",
      "        (2): Dropout(p=0.0, inplace=False)\n",
      "        (3): Fp32GroupNorm(1, 512, eps=1e-05, affine=True)\n",
      "        (4): ReLU()\n",
      "      )\n",
      "      (10): Sequential(\n",
      "        (0): ReplicationPad1d((11, 0))\n",
      "        (1): Conv1d(512, 512, kernel_size=(12,), stride=(1,))\n",
      "        (2): Dropout(p=0.0, inplace=False)\n",
      "        (3): Fp32GroupNorm(1, 512, eps=1e-05, affine=True)\n",
      "        (4): ReLU()\n",
      "      )\n",
      "      (11): Sequential(\n",
      "        (0): ReplicationPad1d((12, 0))\n",
      "        (1): Conv1d(512, 512, kernel_size=(13,), stride=(1,))\n",
      "        (2): Dropout(p=0.0, inplace=False)\n",
      "        (3): Fp32GroupNorm(1, 512, eps=1e-05, affine=True)\n",
      "        (4): ReLU()\n",
      "      )\n",
      "    )\n",
      "    (residual_proj): ModuleList(\n",
      "      (0): None\n",
      "      (1): None\n",
      "      (2): None\n",
      "      (3): None\n",
      "      (4): None\n",
      "      (5): None\n",
      "      (6): None\n",
      "      (7): None\n",
      "      (8): None\n",
      "      (9): None\n",
      "      (10): None\n",
      "      (11): None\n",
      "    )\n",
      "  )\n",
      "  (wav2vec_predictions): Wav2VecPredictionsModel(\n",
      "    (project_to_steps): ConvTranspose2d(512, 512, kernel_size=(1, 12), stride=(1, 1))\n",
      "    (dropout): Dropout(p=0.0, inplace=False)\n",
      "  )\n",
      "  (dropout_feats): Dropout(p=0.0, inplace=False)\n",
      "  (dropout_agg): Dropout(p=0.0, inplace=False)\n",
      ")\n"
     ]
    },
    {
     "data": {
      "text/plain": [
       "Wav2VecModel(\n",
       "  (feature_extractor): ConvFeatureExtractionModel(\n",
       "    (conv_layers): ModuleList(\n",
       "      (0): Sequential(\n",
       "        (0): Conv1d(1, 512, kernel_size=(10,), stride=(5,), bias=False)\n",
       "        (1): Dropout(p=0.0, inplace=False)\n",
       "        (2): Fp32GroupNorm(1, 512, eps=1e-05, affine=True)\n",
       "        (3): ReLU()\n",
       "      )\n",
       "      (1): Sequential(\n",
       "        (0): Conv1d(512, 512, kernel_size=(8,), stride=(4,), bias=False)\n",
       "        (1): Dropout(p=0.0, inplace=False)\n",
       "        (2): Fp32GroupNorm(1, 512, eps=1e-05, affine=True)\n",
       "        (3): ReLU()\n",
       "      )\n",
       "      (2): Sequential(\n",
       "        (0): Conv1d(512, 512, kernel_size=(4,), stride=(2,), bias=False)\n",
       "        (1): Dropout(p=0.0, inplace=False)\n",
       "        (2): Fp32GroupNorm(1, 512, eps=1e-05, affine=True)\n",
       "        (3): ReLU()\n",
       "      )\n",
       "      (3): Sequential(\n",
       "        (0): Conv1d(512, 512, kernel_size=(4,), stride=(2,), bias=False)\n",
       "        (1): Dropout(p=0.0, inplace=False)\n",
       "        (2): Fp32GroupNorm(1, 512, eps=1e-05, affine=True)\n",
       "        (3): ReLU()\n",
       "      )\n",
       "      (4): Sequential(\n",
       "        (0): Conv1d(512, 512, kernel_size=(4,), stride=(2,), bias=False)\n",
       "        (1): Dropout(p=0.0, inplace=False)\n",
       "        (2): Fp32GroupNorm(1, 512, eps=1e-05, affine=True)\n",
       "        (3): ReLU()\n",
       "      )\n",
       "      (5): Sequential(\n",
       "        (0): Conv1d(512, 512, kernel_size=(1,), stride=(1,), bias=False)\n",
       "        (1): Dropout(p=0.0, inplace=False)\n",
       "        (2): Fp32GroupNorm(1, 512, eps=1e-05, affine=True)\n",
       "        (3): ReLU()\n",
       "      )\n",
       "      (6): Sequential(\n",
       "        (0): Conv1d(512, 512, kernel_size=(1,), stride=(1,), bias=False)\n",
       "        (1): Dropout(p=0.0, inplace=False)\n",
       "        (2): Fp32GroupNorm(1, 512, eps=1e-05, affine=True)\n",
       "        (3): ReLU()\n",
       "      )\n",
       "    )\n",
       "  )\n",
       "  (feature_aggregator): ConvAggegator(\n",
       "    (conv_layers): Sequential(\n",
       "      (0): Sequential(\n",
       "        (0): ReplicationPad1d((1, 0))\n",
       "        (1): Conv1d(512, 512, kernel_size=(2,), stride=(1,))\n",
       "        (2): Dropout(p=0.0, inplace=False)\n",
       "        (3): Fp32GroupNorm(1, 512, eps=1e-05, affine=True)\n",
       "        (4): ReLU()\n",
       "      )\n",
       "      (1): Sequential(\n",
       "        (0): ReplicationPad1d((2, 0))\n",
       "        (1): Conv1d(512, 512, kernel_size=(3,), stride=(1,))\n",
       "        (2): Dropout(p=0.0, inplace=False)\n",
       "        (3): Fp32GroupNorm(1, 512, eps=1e-05, affine=True)\n",
       "        (4): ReLU()\n",
       "      )\n",
       "      (2): Sequential(\n",
       "        (0): ReplicationPad1d((3, 0))\n",
       "        (1): Conv1d(512, 512, kernel_size=(4,), stride=(1,))\n",
       "        (2): Dropout(p=0.0, inplace=False)\n",
       "        (3): Fp32GroupNorm(1, 512, eps=1e-05, affine=True)\n",
       "        (4): ReLU()\n",
       "      )\n",
       "      (3): Sequential(\n",
       "        (0): ReplicationPad1d((4, 0))\n",
       "        (1): Conv1d(512, 512, kernel_size=(5,), stride=(1,))\n",
       "        (2): Dropout(p=0.0, inplace=False)\n",
       "        (3): Fp32GroupNorm(1, 512, eps=1e-05, affine=True)\n",
       "        (4): ReLU()\n",
       "      )\n",
       "      (4): Sequential(\n",
       "        (0): ReplicationPad1d((5, 0))\n",
       "        (1): Conv1d(512, 512, kernel_size=(6,), stride=(1,))\n",
       "        (2): Dropout(p=0.0, inplace=False)\n",
       "        (3): Fp32GroupNorm(1, 512, eps=1e-05, affine=True)\n",
       "        (4): ReLU()\n",
       "      )\n",
       "      (5): Sequential(\n",
       "        (0): ReplicationPad1d((6, 0))\n",
       "        (1): Conv1d(512, 512, kernel_size=(7,), stride=(1,))\n",
       "        (2): Dropout(p=0.0, inplace=False)\n",
       "        (3): Fp32GroupNorm(1, 512, eps=1e-05, affine=True)\n",
       "        (4): ReLU()\n",
       "      )\n",
       "      (6): Sequential(\n",
       "        (0): ReplicationPad1d((7, 0))\n",
       "        (1): Conv1d(512, 512, kernel_size=(8,), stride=(1,))\n",
       "        (2): Dropout(p=0.0, inplace=False)\n",
       "        (3): Fp32GroupNorm(1, 512, eps=1e-05, affine=True)\n",
       "        (4): ReLU()\n",
       "      )\n",
       "      (7): Sequential(\n",
       "        (0): ReplicationPad1d((8, 0))\n",
       "        (1): Conv1d(512, 512, kernel_size=(9,), stride=(1,))\n",
       "        (2): Dropout(p=0.0, inplace=False)\n",
       "        (3): Fp32GroupNorm(1, 512, eps=1e-05, affine=True)\n",
       "        (4): ReLU()\n",
       "      )\n",
       "      (8): Sequential(\n",
       "        (0): ReplicationPad1d((9, 0))\n",
       "        (1): Conv1d(512, 512, kernel_size=(10,), stride=(1,))\n",
       "        (2): Dropout(p=0.0, inplace=False)\n",
       "        (3): Fp32GroupNorm(1, 512, eps=1e-05, affine=True)\n",
       "        (4): ReLU()\n",
       "      )\n",
       "      (9): Sequential(\n",
       "        (0): ReplicationPad1d((10, 0))\n",
       "        (1): Conv1d(512, 512, kernel_size=(11,), stride=(1,))\n",
       "        (2): Dropout(p=0.0, inplace=False)\n",
       "        (3): Fp32GroupNorm(1, 512, eps=1e-05, affine=True)\n",
       "        (4): ReLU()\n",
       "      )\n",
       "      (10): Sequential(\n",
       "        (0): ReplicationPad1d((11, 0))\n",
       "        (1): Conv1d(512, 512, kernel_size=(12,), stride=(1,))\n",
       "        (2): Dropout(p=0.0, inplace=False)\n",
       "        (3): Fp32GroupNorm(1, 512, eps=1e-05, affine=True)\n",
       "        (4): ReLU()\n",
       "      )\n",
       "      (11): Sequential(\n",
       "        (0): ReplicationPad1d((12, 0))\n",
       "        (1): Conv1d(512, 512, kernel_size=(13,), stride=(1,))\n",
       "        (2): Dropout(p=0.0, inplace=False)\n",
       "        (3): Fp32GroupNorm(1, 512, eps=1e-05, affine=True)\n",
       "        (4): ReLU()\n",
       "      )\n",
       "    )\n",
       "    (residual_proj): ModuleList(\n",
       "      (0): None\n",
       "      (1): None\n",
       "      (2): None\n",
       "      (3): None\n",
       "      (4): None\n",
       "      (5): None\n",
       "      (6): None\n",
       "      (7): None\n",
       "      (8): None\n",
       "      (9): None\n",
       "      (10): None\n",
       "      (11): None\n",
       "    )\n",
       "  )\n",
       "  (wav2vec_predictions): Wav2VecPredictionsModel(\n",
       "    (project_to_steps): ConvTranspose2d(512, 512, kernel_size=(1, 12), stride=(1, 1))\n",
       "    (dropout): Dropout(p=0.0, inplace=False)\n",
       "  )\n",
       "  (dropout_feats): Dropout(p=0.0, inplace=False)\n",
       "  (dropout_agg): Dropout(p=0.0, inplace=False)\n",
       ")"
      ]
     },
     "execution_count": 43,
     "metadata": {},
     "output_type": "execute_result"
    }
   ],
   "source": [
    "cp=torch.load('../datasets/wav2vec_large.pt', map_location=torch.device('cpu'))\n",
    "model = Wav2VecModel.build_model(cp['args'], task=None)\n",
    "model.load_state_dict(cp['model'])\n",
    "model.eval()"
   ]
  },
  {
   "cell_type": "code",
   "execution_count": 44,
   "metadata": {
    "collapsed": true
   },
   "outputs": [],
   "source": [
    "file_path = \"../datasets/IEMOCAP_CUTTED\" + '/Ses01F_impro01_F000.wav'\n",
    "data, sr = librosa.load(file_path)"
   ]
  },
  {
   "cell_type": "code",
   "execution_count": 19,
   "metadata": {
    "collapsed": true
   },
   "outputs": [],
   "source": [
    "import numpy as np"
   ]
  },
  {
   "cell_type": "code",
   "execution_count": 46,
   "metadata": {
    "collapsed": true
   },
   "outputs": [],
   "source": [
    "data=np.expand_dims(data, axis=0)"
   ]
  },
  {
   "cell_type": "code",
   "execution_count": 47,
   "metadata": {},
   "outputs": [
    {
     "data": {
      "text/plain": [
       "array([[-0.00070661, -0.00308682, -0.00480553, ..., -0.00380395,\n",
       "        -0.00218341,  0.        ]], dtype=float32)"
      ]
     },
     "execution_count": 47,
     "metadata": {},
     "output_type": "execute_result"
    }
   ],
   "source": [
    "data"
   ]
  },
  {
   "cell_type": "code",
   "execution_count": 48,
   "metadata": {
    "collapsed": true
   },
   "outputs": [],
   "source": [
    "wav_input_16khz=torch.tensor(data)"
   ]
  },
  {
   "cell_type": "code",
   "execution_count": 49,
   "metadata": {},
   "outputs": [
    {
     "data": {
      "text/plain": [
       "tensor([[-0.0007, -0.0031, -0.0048,  ..., -0.0038, -0.0022,  0.0000]])"
      ]
     },
     "execution_count": 49,
     "metadata": {},
     "output_type": "execute_result"
    }
   ],
   "source": [
    "wav_input_16khz"
   ]
  },
  {
   "cell_type": "code",
   "execution_count": 50,
   "metadata": {
    "collapsed": true
   },
   "outputs": [],
   "source": [
    "z = model.feature_extractor(wav_input_16khz)\n",
    "c = model.feature_aggregator(z)"
   ]
  },
  {
   "cell_type": "code",
   "execution_count": 51,
   "metadata": {},
   "outputs": [
    {
     "data": {
      "text/plain": [
       "torch.Size([1, 512, 266])"
      ]
     },
     "execution_count": 51,
     "metadata": {},
     "output_type": "execute_result"
    }
   ],
   "source": [
    "c.shape"
   ]
  },
  {
   "cell_type": "code",
   "execution_count": 52,
   "metadata": {},
   "outputs": [
    {
     "data": {
      "text/plain": [
       "torch.Size([1, 512, 266])"
      ]
     },
     "execution_count": 52,
     "metadata": {},
     "output_type": "execute_result"
    }
   ],
   "source": [
    "z.shape"
   ]
  },
  {
   "cell_type": "code",
   "execution_count": 53,
   "metadata": {},
   "outputs": [
    {
     "data": {
      "text/plain": [
       "tensor([[[0.0000, 0.0000, 0.0000,  ..., 0.0135, 0.0051, 0.0049],\n",
       "         [0.0506, 0.0000, 0.0000,  ..., 0.0337, 0.0415, 0.0000],\n",
       "         [0.0000, 0.0000, 0.0000,  ..., 0.0000, 0.0000, 0.0000],\n",
       "         ...,\n",
       "         [0.0000, 0.0118, 0.0115,  ..., 0.0000, 0.0000, 0.0129],\n",
       "         [0.0000, 0.0000, 0.0000,  ..., 0.0000, 0.0000, 0.0000],\n",
       "         [0.0463, 0.0508, 0.0663,  ..., 0.0624, 0.0734, 0.0593]]],\n",
       "       grad_fn=<LogBackward>)"
      ]
     },
     "execution_count": 53,
     "metadata": {},
     "output_type": "execute_result"
    }
   ],
   "source": [
    "z"
   ]
  },
  {
   "cell_type": "code",
   "execution_count": null,
   "metadata": {
    "collapsed": true
   },
   "outputs": [],
   "source": []
  }
 ],
 "metadata": {
  "kernelspec": {
   "display_name": "Python 3",
   "language": "python",
   "name": "python3"
  },
  "language_info": {
   "codemirror_mode": {
    "name": "ipython",
    "version": 3
   },
   "file_extension": ".py",
   "mimetype": "text/x-python",
   "name": "python",
   "nbconvert_exporter": "python",
   "pygments_lexer": "ipython3",
   "version": "3.6.10"
  }
 },
 "nbformat": 4,
 "nbformat_minor": 2
}
